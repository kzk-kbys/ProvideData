{
 "cells": [
  {
   "cell_type": "code",
   "execution_count": 9,
   "id": "e1e26d49",
   "metadata": {},
   "outputs": [
    {
     "name": "stdout",
     "output_type": "stream",
     "text": [
      "True\n"
     ]
    }
   ],
   "source": [
    "import torch\n",
    "from torch import nn\n",
    "from torch.utils.data import Dataset, DataLoader\n",
    "import torch.optim as optim\n",
    "\n",
    "from transformers import AutoModel, AutoTokenizer\n",
    "\n",
    "import pandas as pd\n",
    "from sklearn.model_selection import train_test_split\n",
    "from sklearn.metrics import accuracy_score, recall_score, precision_score, f1_score, precision_recall_fscore_support\n",
    "\n",
    "from tqdm import tqdm\n",
    "import glob, pickle\n",
    "\n",
    "MODEL_NAME = \"cl-tohoku/bert-base-japanese-whole-word-masking\"\n",
    "DISTIL_MODEL_NAME = \"bandainamco-mirai/distilbert-base-japanese\"\n",
    "print(torch.cuda.is_available())"
   ]
  },
  {
   "cell_type": "code",
   "execution_count": 5,
   "id": "526358a1",
   "metadata": {},
   "outputs": [],
   "source": [
    "# タスク用Datasetクラスを定義\n",
    "class LivedoorDataset(Dataset):\n",
    "    def __init__(self, encodings, labels):\n",
    "        self.encodings = encodings\n",
    "        self.labels = labels\n",
    "    \n",
    "    def __getitem__(self, idx):\n",
    "        item = { key: torch.tensor(val[idx]) for key, val in self.encodings.items() }\n",
    "        item[\"labels\"] = torch.tensor(self.labels[idx]) # item[\"label\"]でなくitem[\"labels\"]が正しい！\n",
    "        return item\n",
    "    \n",
    "    def __len__(self):\n",
    "        return len(self.labels)     "
   ]
  },
  {
   "cell_type": "code",
   "execution_count": 6,
   "id": "a2c9ff84",
   "metadata": {},
   "outputs": [],
   "source": [
    "# 保存済みDatasetをpklからロード\n",
    "with open(\"../../DataSet/livedoor_news_corpus/dataloader/ds_train.pkl\", \"rb\") as f:\n",
    "    ds_train = pickle.load(f)\n",
    "with open(\"../../DataSet/livedoor_news_corpus/dataloader/ds_valid.pkl\", \"rb\") as f:\n",
    "    ds_valid = pickle.load(f)\n",
    "with open(\"../../DataSet/livedoor_news_corpus/dataloader/ds_test.pkl\", \"rb\") as f:\n",
    "    ds_test = pickle.load(f)"
   ]
  },
  {
   "cell_type": "code",
   "execution_count": 13,
   "id": "4c3e3378",
   "metadata": {},
   "outputs": [],
   "source": [
    "# DataLoaderクラスを作成\n",
    "batch_size_train = 16\n",
    "batch_size_val = 64\n",
    "\n",
    "bt_train = DataLoader(ds_train, batch_size=batch_size_train)\n",
    "bt_val = DataLoader(ds_valid, batch_size=batch_size_val)\n",
    "dataloader_dict = {\"train\": bt_train, \"val\": bt_val}"
   ]
  },
  {
   "cell_type": "markdown",
   "id": "f7205d99",
   "metadata": {},
   "source": [
    "## DistilBERTモデル"
   ]
  },
  {
   "cell_type": "code",
   "execution_count": 7,
   "id": "f01f4846",
   "metadata": {},
   "outputs": [],
   "source": [
    "\"\"\"\n",
    "DistilBERT版\n",
    "\"\"\"\n",
    "class DistilBertClassifier(nn.Module):\n",
    "    def __init__(self, pretrained_model):\n",
    "        super(DistilBertClassifier, self).__init__()\n",
    "        \n",
    "        self.distil_bert = pretrained_model\n",
    "        self.classifier = nn.Linear(in_features=768, out_features=9) #9カテゴリのクラス分類\n",
    "        \n",
    "        # 重み初期化\n",
    "        nn.init.normal_(self.classifier.weight, std=.02)\n",
    "        nn.init.normal_(self.classifier.bias, 0)\n",
    "        \n",
    "    def forward(self, input_ids):\n",
    "        output = self.distil_bert(input_ids)\n",
    "                \n",
    "        # CLSトークンの埋め込みベクトル取得\n",
    "        vec = output.last_hidden_state[:,0,:]\n",
    "        output_classifier = self.classifier(vec)\n",
    "        \n",
    "        return output_classifier"
   ]
  },
  {
   "cell_type": "code",
   "execution_count": 10,
   "id": "588d3111",
   "metadata": {},
   "outputs": [
    {
     "name": "stderr",
     "output_type": "stream",
     "text": [
      "Some weights of the model checkpoint at bandainamco-mirai/distilbert-base-japanese were not used when initializing DistilBertModel: ['vocab_transform.bias', 'vocab_transform.weight', 'vocab_layer_norm.weight', 'vocab_layer_norm.bias', 'vocab_projector.weight', 'vocab_projector.bias']\n",
      "- This IS expected if you are initializing DistilBertModel from the checkpoint of a model trained on another task or with another architecture (e.g. initializing a BertForSequenceClassification model from a BertForPreTraining model).\n",
      "- This IS NOT expected if you are initializing DistilBertModel from the checkpoint of a model that you expect to be exactly identical (initializing a BertForSequenceClassification model from a BertForSequenceClassification model).\n"
     ]
    }
   ],
   "source": [
    "distil_model = AutoModel.from_pretrained(DISTIL_MODEL_NAME)\n",
    "distil_classifier = DistilBertClassifier(distil_model)"
   ]
  },
  {
   "cell_type": "code",
   "execution_count": 11,
   "id": "65cd21ec",
   "metadata": {},
   "outputs": [],
   "source": [
    "# 学習パラメータの設定\n",
    "# まずは全部OFF\n",
    "for param in distil_classifier.parameters():\n",
    "    param.requires_grad = False\n",
    "\n",
    "# DistilBERTの最後の層だけ更新ON\n",
    "# BERT-baseは .encoder.layer[-1]でしたが、\n",
    "# DistilBERTの場合は、上で構造を確認したように以下のように .transfomer.layer[-1]となります。\n",
    "for param in distil_classifier.distil_bert.transformer.layer[-1].parameters():\n",
    "    param.requires_grad = True\n",
    "# クラス分類のところもON\n",
    "for param in distil_classifier.classifier.parameters():\n",
    "    param.requires_grad = True\n"
   ]
  },
  {
   "cell_type": "code",
   "execution_count": 12,
   "id": "bb3cfd18",
   "metadata": {},
   "outputs": [],
   "source": [
    "# 事前学習済の箇所は学習率小さめ、最後の全結合層は大きめにする。\n",
    "# こちらも忘れずにDistilBERT用に変更\n",
    "optimizer = optim.Adam([\n",
    "    {'params': distil_classifier.distil_bert.transformer.layer[-1].parameters(), 'lr': 5e-5},\n",
    "    {'params': distil_classifier.classifier.parameters(), 'lr': 1e-4}\n",
    "])\n",
    "\n",
    "# 損失関数の設定\n",
    "loss_function = nn.CrossEntropyLoss()"
   ]
  },
  {
   "cell_type": "markdown",
   "id": "ea85bd57",
   "metadata": {},
   "source": [
    "## モデルの定義ここまで　ここから学習ステップの定義\n",
    "  \n",
    "  "
   ]
  },
  {
   "cell_type": "code",
   "execution_count": 20,
   "id": "409cfbbc",
   "metadata": {},
   "outputs": [],
   "source": [
    "def train_model(net, dataloader_dict, loss_function, optimizer, num_epochs):\n",
    "    # GPU利用可能ならそうする\n",
    "    device = torch.device(\"cuda:0\" if torch.cuda.is_available() else \"cpu\")\n",
    "    net.to(device) # モデルをGPU or CPUに送る\n",
    "\n",
    "    torch.backends.cudnn.benchmark = True # 高速化するらしい？\n",
    "\n",
    "    # 以下、epochループ\n",
    "    for epoch in tqdm(range(num_epochs)):\n",
    "        # trainとvalそれぞれのphaseを実施\n",
    "        for phase in [\"train\", \"val\"]:\n",
    "            batch_size = dataloader_dict[phase].batch_size\n",
    "            if phase == \"train\":\n",
    "                net.train()\n",
    "            else:\n",
    "                net.eval()\n",
    "            \n",
    "            epoch_loss = .0\n",
    "            epoch_corrects = 0\n",
    "            iteration = 1\n",
    "            \n",
    "            # 各ミニバッチでの処理\n",
    "            for batch in (dataloader_dict[phase]):\n",
    "                inputs = batch[\"input_ids\"].to(device)\n",
    "                labels = batch[\"labels\"].to(device)\n",
    "                \n",
    "                optimizer.zero_grad()\n",
    "                \n",
    "                # feed foward処理\n",
    "                with torch.set_grad_enabled(phase==\"train\"):\n",
    "                    outputs = net(inputs)\n",
    "                    loss = loss_function(outputs, labels) # CrossEntropyLoss内部でsoftmaxまで実施する\n",
    "                    _, preds = torch.max(outputs, 1)\n",
    "                    \n",
    "                    if phase == \"train\": # trainではback prop\n",
    "                        loss.backward()\n",
    "                        optimizer.step()\n",
    "                        \n",
    "                        if (iteration % 50 == 0):\n",
    "                            acc = (torch.sum(preds == labels.data)).double() / batch_size\n",
    "                            print(f\"It:{iteration:3d}|Loss: {loss.item():.4f}|accuracy:{acc:.4f}\")\n",
    "                            \n",
    "                iteration += 1\n",
    "                epoch_loss += loss.item() * batch_size\n",
    "                epoch_corrects += torch.sum(preds == labels.data)\n",
    "        \n",
    "        # epoch毎に評価結果を出力\n",
    "        epoch_loss = epoch_loss / len(dataloader_dict[phase].dataset)\n",
    "        epoch_acc = epoch_corrects.double() / len(dataloader_dict[phase].dataset)\n",
    "        print(f\"Epoch {epoch+1} / {num_epochs} | {phase} | Loss: {epoch_loss:.4f} | Acc: {epoch_acc}\")\n",
    "    \n",
    "    return net #訓練後のモデルを出力    "
   ]
  },
  {
   "cell_type": "code",
   "execution_count": 21,
   "id": "390737f1",
   "metadata": {},
   "outputs": [
    {
     "name": "stderr",
     "output_type": "stream",
     "text": [
      "\r",
      "  0%|                                                                                            | 0/3 [00:00<?, ?it/s]"
     ]
    },
    {
     "name": "stdout",
     "output_type": "stream",
     "text": [
      "It: 50|Loss: 1.2516|accuracy:0.6250\n",
      "It:100|Loss: 1.5270|accuracy:0.4375\n",
      "It:150|Loss: 1.2051|accuracy:0.5625\n",
      "It:200|Loss: 0.9010|accuracy:0.6875\n",
      "It:250|Loss: 0.8216|accuracy:0.8750\n",
      "It:300|Loss: 0.8774|accuracy:0.7500\n",
      "It:350|Loss: 0.9895|accuracy:0.6875\n"
     ]
    },
    {
     "name": "stderr",
     "output_type": "stream",
     "text": [
      "\r",
      " 33%|███████████████████████████▋                                                       | 1/3 [01:51<03:42, 111.33s/it]"
     ]
    },
    {
     "name": "stdout",
     "output_type": "stream",
     "text": [
      "Epoch 1 / 3 | val | Loss: 0.8600 | Acc: 0.7584803256445047\n",
      "It: 50|Loss: 0.7894|accuracy:0.7500\n",
      "It:100|Loss: 1.1637|accuracy:0.5000\n",
      "It:150|Loss: 0.7549|accuracy:0.6875\n",
      "It:200|Loss: 0.6367|accuracy:0.8750\n",
      "It:250|Loss: 0.5078|accuracy:0.9375\n",
      "It:300|Loss: 0.6684|accuracy:0.8750\n",
      "It:350|Loss: 0.7617|accuracy:0.6250\n"
     ]
    },
    {
     "name": "stderr",
     "output_type": "stream",
     "text": [
      "\r",
      " 67%|███████████████████████████████████████████████████████▎                           | 2/3 [03:45<01:52, 112.71s/it]"
     ]
    },
    {
     "name": "stdout",
     "output_type": "stream",
     "text": [
      "Epoch 2 / 3 | val | Loss: 0.6313 | Acc: 0.8195386702849389\n",
      "It: 50|Loss: 0.6367|accuracy:0.8750\n",
      "It:100|Loss: 0.7394|accuracy:0.7500\n",
      "It:150|Loss: 0.4501|accuracy:0.9375\n",
      "It:200|Loss: 0.4950|accuracy:0.8125\n",
      "It:250|Loss: 0.5746|accuracy:0.8750\n",
      "It:300|Loss: 0.5423|accuracy:0.8750\n",
      "It:350|Loss: 0.5275|accuracy:0.7500\n"
     ]
    },
    {
     "name": "stderr",
     "output_type": "stream",
     "text": [
      "100%|███████████████████████████████████████████████████████████████████████████████████| 3/3 [05:38<00:00, 112.79s/it]"
     ]
    },
    {
     "name": "stdout",
     "output_type": "stream",
     "text": [
      "Epoch 3 / 3 | val | Loss: 0.5417 | Acc: 0.8222523744911804\n"
     ]
    },
    {
     "name": "stderr",
     "output_type": "stream",
     "text": [
      "\n"
     ]
    }
   ],
   "source": [
    "# ファインチューニング\n",
    "distil_classifier_trained = train_model(distil_classifier, dataloader_dict, loss_function, optimizer, num_epochs=3)"
   ]
  },
  {
   "cell_type": "code",
   "execution_count": 24,
   "id": "c43210fd",
   "metadata": {},
   "outputs": [],
   "source": [
    "# pkl保存\n",
    "with open(\"./distil_model/distil_model_fine-tuned.pkl\", \"wb\") as f:\n",
    "    pickle.dump(distil_classifier_trained, f)"
   ]
  },
  {
   "cell_type": "markdown",
   "id": "e9e589ab",
   "metadata": {},
   "source": [
    "## 使ってみる"
   ]
  },
  {
   "cell_type": "code",
   "execution_count": 25,
   "id": "d6908143",
   "metadata": {},
   "outputs": [],
   "source": [
    "with open(\"./distil_model/distil_model_fine-tuned.pkl\", \"rb\") as f:\n",
    "    trained_distil_model = pickle.load(f)"
   ]
  },
  {
   "cell_type": "code",
   "execution_count": 28,
   "id": "3dbd3d67",
   "metadata": {},
   "outputs": [],
   "source": [
    "tokenizer = AutoTokenizer.from_pretrained(MODEL_NAME)\n",
    "softmax = nn.Softmax(dim=1)"
   ]
  },
  {
   "cell_type": "code",
   "execution_count": 59,
   "id": "b48be265",
   "metadata": {},
   "outputs": [],
   "source": [
    "# テストデータ\n",
    "sentence = \"iPhoneをカメラ代わりに使っているという人は意外に多いのではないだろうか。そんな人はいっそのことiPhoneをカメラにしてしまうケースを付けてみてはどうだろう？GIZMON iCAは、シャッターボタンで撮影することもでき実際のカメラのようにiPhoneを利用することができる。さらにビューファインダーや、自分撮り用のミラーもついている。カメラ機能が上がっているiPhoneをよりカメラらしく利用。ケースとしてもかわいいため、男女問わず利用することができる。価格は3980円。気になる人はチェックしてみよう。GIZMON iCA    ■関連記事・ネットはバカ発見器？　SNSの普及で拡大する実名制に要注意【話題】・スマホを自分で除菌するのが新常識に！？　手軽な小型紫外線滅菌器「UVサニタイザー」がオススメ【売れ筋チェック】・YES！　高須度チェック！　予想の斜め上を行く高須クリニックのスペシャルサイトに困惑【話題】・iPhoneを本格的なカメラに変えるかわいすぎるケースが登場！【売れ筋】・楽しいことにもいつかは終わりが・・・Google「Picnik」終了のお知らせが気になる【話題】\"\n",
    "label = 2\n"
   ]
  },
  {
   "cell_type": "code",
   "execution_count": 66,
   "id": "1ac2a523",
   "metadata": {},
   "outputs": [
    {
     "name": "stdout",
     "output_type": "stream",
     "text": [
      "True Label: 2\n",
      "Prediction: 2, Prob: 83.69%\n"
     ]
    }
   ],
   "source": [
    "# テキストをBERTモデルへの入力にエンコード\n",
    "encoding = tokenizer(sentence, return_tensors=\"pt\")\n",
    "device = torch.device(\"cuda:0\" if torch.cuda.is_available() else \"cpu\")\n",
    "encoding = { k:v.to(device) for k,v in encoding.items() }\n",
    "\n",
    "with torch.no_grad():\n",
    "    # 推論\n",
    "    output = trained_distil_model(encoding[\"input_ids\"])\n",
    "    # Softmaxで分類スコア（output.logits）から確率へ\n",
    "    prob = softmax(output)\n",
    "    # データをCPUに戻す\n",
    "    probs = prob.cpu().numpy()\n",
    "    # 予測ラベルとその確率\n",
    "    predicted_cls = probs.argmax(-1)[0]\n",
    "    predicted_prob = probs[0][predicted_cls]\n",
    "\n",
    "# 予測結果と正解\n",
    "print(f\"True Label: {label}\")\n",
    "print(f\"Prediction: {predicted_cls}, Prob: {predicted_prob*100:.4}%\")"
   ]
  },
  {
   "cell_type": "code",
   "execution_count": null,
   "id": "a6c42130",
   "metadata": {},
   "outputs": [],
   "source": []
  }
 ],
 "metadata": {
  "kernelspec": {
   "display_name": "Python 3 (ipykernel)",
   "language": "python",
   "name": "python3"
  },
  "language_info": {
   "codemirror_mode": {
    "name": "ipython",
    "version": 3
   },
   "file_extension": ".py",
   "mimetype": "text/x-python",
   "name": "python",
   "nbconvert_exporter": "python",
   "pygments_lexer": "ipython3",
   "version": "3.9.15"
  }
 },
 "nbformat": 4,
 "nbformat_minor": 5
}
